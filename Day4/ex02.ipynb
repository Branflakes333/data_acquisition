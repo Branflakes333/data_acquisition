{
 "cells": [
  {
   "cell_type": "markdown",
   "id": "132eeed5",
   "metadata": {},
   "source": [
    "Retreive 20 records including the last 4 columns from the GCS's file generated from ex01.ipynb\n",
    "Using \"gemini-2.5-flash\", ask it to summarize the reports.\n",
    "\n",
    "- Pre-requisite : Generate API keys through [Google AI Studio](https://aistudio.google.com/app/apikey)"
   ]
  },
  {
   "cell_type": "code",
   "execution_count": 23,
   "id": "d1068095",
   "metadata": {},
   "outputs": [],
   "source": [
    "import json\n",
    "import os\n",
    "\n",
    "from dotenv import load_dotenv\n",
    "from google import genai\n",
    "from google.oauth2 import service_account\n",
    "from google.cloud import storage"
   ]
  },
  {
   "cell_type": "code",
   "execution_count": 24,
   "id": "45a6bf8d",
   "metadata": {},
   "outputs": [
    {
     "data": {
      "text/plain": [
       "True"
      ]
     },
     "execution_count": 24,
     "metadata": {},
     "output_type": "execute_result"
    }
   ],
   "source": [
    "load_dotenv(dotenv_path='../.env', override=True)"
   ]
  },
  {
   "cell_type": "code",
   "execution_count": 25,
   "id": "3a13d0fa",
   "metadata": {},
   "outputs": [],
   "source": [
    "genai_api_key = os.getenv(\"GCP_GENAI_API_KEY\")\n",
    "service_account_key = os.getenv(\"GCP_SERVICE_ACCOUNT_KEY\")\n",
    "project_id = os.getenv(\"GCP_PROJECT_ID\")\n",
    "bucket_name = os.getenv(\"GCP_BUCKET_NAME\")\n",
    "file_name = f\"sf_police_report/2025-09-08.json\""
   ]
  },
  {
   "cell_type": "code",
   "execution_count": 26,
   "id": "5abe6c3d",
   "metadata": {},
   "outputs": [],
   "source": [
    "def retrieve_data_from_gcs(service_account_key: str,\n",
    "                           project_id: str,\n",
    "                           bucket_name: str,\n",
    "                           file_name: str,\n",
    "                           key_list: list\n",
    "                           ) -> list:\n",
    "    credentials = service_account.Credentials.from_service_account_file(service_account_key)\n",
    "    client = storage.Client(project=project_id,\n",
    "                            credentials=credentials)\n",
    "    bucket = client.bucket(bucket_name)\n",
    "    file = bucket.blob(file_name)\n",
    "    content = json.loads(file.download_as_string())\n",
    "\n",
    "    output = []\n",
    "    for data in content:\n",
    "        row = []\n",
    "        \n",
    "        for key in key_list:\n",
    "            row.append(data.get(key, None))\n",
    "        output.append(row)\n",
    "    return output"
   ]
  },
  {
   "cell_type": "code",
   "execution_count": 27,
   "id": "f0465630",
   "metadata": {},
   "outputs": [],
   "source": [
    "key_list = ['incident_datetime', 'report_datetime', 'incident_code',\n",
    "            'incident_category', 'incident_description', 'latitude',\n",
    "            'longitude', 'police_district']\n",
    "data = retrieve_data_from_gcs(service_account_key, \n",
    "                              project_id,\n",
    "                              bucket_name,\n",
    "                              file_name,\n",
    "                              key_list)"
   ]
  },
  {
   "cell_type": "code",
   "execution_count": 28,
   "id": "45059b57",
   "metadata": {},
   "outputs": [],
   "source": [
    "filtered_data = [row[-4:] for row in data][:20]"
   ]
  },
  {
   "cell_type": "code",
   "execution_count": 29,
   "id": "eba47b22",
   "metadata": {},
   "outputs": [],
   "source": [
    "# The client gets the API key from the environment variable `GEMINI_API_KEY`.\n",
    "client = genai.Client(api_key=os.getenv(\"GEMINI_API_KEY\"))"
   ]
  },
  {
   "cell_type": "code",
   "execution_count": 30,
   "id": "1aa313b9",
   "metadata": {},
   "outputs": [],
   "source": [
    "model_name = \"gemini-2.5-flash\""
   ]
  },
  {
   "cell_type": "code",
   "execution_count": 31,
   "id": "3a59cb15",
   "metadata": {},
   "outputs": [],
   "source": [
    "prompt_content = f\"There has been a police report\\\n",
    "on the following list of [description, lon, lat, district] : {filtered_data} recently.\\\n",
    "Summarize the reports\""
   ]
  },
  {
   "cell_type": "code",
   "execution_count": 32,
   "id": "657e8eca",
   "metadata": {},
   "outputs": [],
   "source": [
    "response = client.models.generate_content(\n",
    "    model=model_name,\n",
    "    contents=prompt_content\n",
    ")"
   ]
  },
  {
   "cell_type": "code",
   "execution_count": 33,
   "id": "0ce65a55",
   "metadata": {},
   "outputs": [
    {
     "data": {
      "text/plain": [
       "'Here\\'s a summary of the police reports:\\n\\nThere are a total of **20 police reports**.\\n\\n**Key Incident Types:**\\n\\n*   **Vehicle-Related Crimes (7 reports):** This is the most frequent category. Incidents include:\\n    *   4 cases of \"Theft, From Locked Vehicle, >$950\"\\n    *   1 case of \"Theft, From Unlocked Vehicle, >$950\" (missing coordinates)\\n    *   1 \"Vehicle, Stolen, Other Vehicle\"\\n    *   1 \"Vehicle, Recovered, Auto\" (reported as \\'Out of SF\\', missing coordinates)\\n    *   1 \"Arson of Vehicle\"\\n*   **Property Crimes (excluding vehicle theft):**\\n    *   1 \"Malicious Mischief, Vandalism to Property\"\\n    *   1 \"False Personation\"\\n*   **Violent Crimes & Threats (2 reports):**\\n    *   1 \"Battery\"\\n    *   1 \"Terrorist Threats\"\\n*   **Police Interaction & Arrests (3 reports):**\\n    *   1 \"Evading a Police Officer Recklessly\"\\n    *   1 \"Resisting, Delaying, or Obstructing Peace Officer Duties\"\\n    *   1 \"Warrant Arrest, Enroute To Adult Authority\"\\n*   **Drug Offenses (1 report):**\\n    *   1 \"Methamphetamine Offense\"\\n*   **Harassment (1 report):**\\n    *   1 \"Phone Calls, Harassing\"\\n*   **Miscellaneous / Non-Criminal (4 reports):**\\n    *   2 \"Lost Property\" (one missing coordinates)\\n    *   1 \"Miscellaneous Investigation\"\\n    *   1 \"Suspicious Occurrence\"\\n\\n**Distribution by District:**\\n\\nThe most active districts in this dataset are:\\n\\n*   **Park District:** 5 reports (including Battery, False Personation, Lost Property, Stolen Vehicle, Theft from Locked Vehicle)\\n*   **Southern District:** 5 reports (including Theft from Unlocked Vehicle, Theft from Locked Vehicle, Evading Police, Suspicious Occurrence, Harassing Phone Calls)\\n*   **Tenderloin District:** 4 reports (including Lost Property, Arson of Vehicle, Warrant Arrest, Methamphetamine Offense)\\n*   **Taraval District:** 2 reports (Miscellaneous Investigation, Vandalism)\\n*   **Northern, Mission, Central, and Out of SF:** Each had 1 report.\\n\\n**Missing Information:**\\n\\n*   Three reports (`Vehicle, Recovered, Auto`, `Theft, From Unlocked Vehicle, >$950`, and one of the `Lost Property` incidents) are missing specific latitude and longitude coordinates.'"
      ]
     },
     "execution_count": 33,
     "metadata": {},
     "output_type": "execute_result"
    }
   ],
   "source": [
    "response.text"
   ]
  },
  {
   "cell_type": "code",
   "execution_count": null,
   "id": "c341815f",
   "metadata": {},
   "outputs": [],
   "source": []
  }
 ],
 "metadata": {
  "kernelspec": {
   "display_name": "data_aquisition",
   "language": "python",
   "name": "python3"
  },
  "language_info": {
   "codemirror_mode": {
    "name": "ipython",
    "version": 3
   },
   "file_extension": ".py",
   "mimetype": "text/x-python",
   "name": "python",
   "nbconvert_exporter": "python",
   "pygments_lexer": "ipython3",
   "version": "3.13.5"
  }
 },
 "nbformat": 4,
 "nbformat_minor": 5
}
