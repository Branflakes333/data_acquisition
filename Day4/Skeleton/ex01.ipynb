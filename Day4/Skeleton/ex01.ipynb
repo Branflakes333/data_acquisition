{
 "cells": [
  {
   "cell_type": "markdown",
   "id": "abcff18a",
   "metadata": {},
   "source": [
    "Using the DATA_GOV_API_KEY, retrieve data from `https://data.sfgov.org/resource/wg3w-h783`, SF Police Department Report Data.\n",
    "\n",
    "complete store_to_gcs() to store retrieved data to GCS, and retrieve_data_from_gcs() to retrieve data from GCS.\n",
    "- store_to_gcs(service_account_key, project_id, bucket_name, file_name, data) : upload data as file_name on the given gcs.\n",
    "- retrieve_data_from_gcs(service_account_key, project_id, bucket_name, file_name, key_list) : return a list of list which includes values corresponding to keys in key_list.\n",
    "If \n",
    "```\n",
    "key_list = ['incident_datetime', 'report_datetime', 'incident_code',\n",
    "            'incident_category', 'incident_description', 'latitude',\n",
    "            'longitude', 'police_district']\n",
    "```\n",
    "This should return\n",
    "```\n",
    "[['2025-08-26T23:17:00.000',\n",
    "  '2025-08-26T23:17:00.000',\n",
    "  '07041',\n",
    "  'Recovered Vehicle',\n",
    "  'Vehicle, Recovered, Auto',\n",
    "  None,\n",
    "  None,\n",
    "  'Out of SF'],\n",
    " ['2025-08-27T00:37:00.000',\n",
    "  '2025-08-27T00:37:00.000',\n",
    "  '04134',\n",
    "  'Assault',\n",
    "  'Battery',\n",
    "  '37.78041458129883',\n",
    "  '-122.44901275634766',\n",
    "  'Park'],....]\n",
    "```\n",
    "If a key doesn't exist, its value should be `None`"
   ]
  },
  {
   "cell_type": "code",
   "execution_count": 10,
   "id": "58311aac",
   "metadata": {},
   "outputs": [],
   "source": [
    "import datetime\n",
    "import json\n",
    "import os \n",
    "\n",
    "from dotenv import load_dotenv\n",
    "from google.oauth2 import service_account\n",
    "from google.cloud import storage\n",
    "import requests"
   ]
  },
  {
   "cell_type": "code",
   "execution_count": 11,
   "id": "d4beeb07",
   "metadata": {},
   "outputs": [],
   "source": [
    "load_dotenv()\n",
    "\n",
    "api_key = os.getenv(\"DATA_GOV_API_KEY\")"
   ]
  },
  {
   "cell_type": "markdown",
   "id": "b776af2c",
   "metadata": {},
   "source": [
    "- Typically authorization in a header uses the format of..\n",
    "```\n",
    "headers = {\"Authorization\": f\"Bearer {api_key}\", \"Content-Type\": \"application/json\"}\n",
    "```\n",
    "However, based on the [documentaiton](https://api.data.gov/docs/developer-manual/), I followed the following format.\n",
    "\n",
    "Also, the data specific meta data and details can be searchable. (Ex.[link](https://data.sfgov.org/Public-Safety/Police-Department-Incident-Reports-2018-to-Present/wg3w-h783/about_data))"
   ]
  },
  {
   "cell_type": "code",
   "execution_count": 12,
   "id": "6e1407e7",
   "metadata": {},
   "outputs": [],
   "source": [
    "url = 'https://data.sfgov.org/resource/wg3w-h783'\n",
    "header = {'X-Api-Key':api_key} \n",
    "\n",
    "response = requests.get(url, headers=header)"
   ]
  },
  {
   "cell_type": "code",
   "execution_count": 13,
   "id": "7be9a22f",
   "metadata": {},
   "outputs": [],
   "source": [
    "data = response.json()"
   ]
  },
  {
   "cell_type": "markdown",
   "id": "b86a1d10",
   "metadata": {},
   "source": [
    "Create store_to_gcs(service_account_key, project_id, bucket_name, file_name, data) which upload data as file_name on the given gcs."
   ]
  },
  {
   "cell_type": "code",
   "execution_count": 14,
   "id": "95acd0d5",
   "metadata": {},
   "outputs": [],
   "source": [
    "def store_to_gcs(service_account_key: str,\n",
    "                 project_id: str,\n",
    "                 bucket_name: str,\n",
    "                 file_name: str,\n",
    "                 data: str) -> None:    \n",
    "    credentials = service_account.Credentials.from_service_account_file(\n",
    "        service_account_key\n",
    "    )\n",
    "    client = storage.Client(credentials=credentials, project=project_id)\n",
    "    bucket = client.bucket(bucket_name)\n",
    "    blob = bucket.blob(file_name)\n",
    "    blob.upload_from_string(data)"
   ]
  },
  {
   "cell_type": "code",
   "execution_count": 15,
   "id": "dff2cf2b",
   "metadata": {},
   "outputs": [],
   "source": [
    "service_account_key = os.getenv(\"GCP_SERVICE_ACCOUNT_KEY\")\n",
    "project_id = os.getenv(\"GCP_PROJECT_ID\")\n",
    "bucket_name = os.getenv(\"GCP_BUCKET_NAME\")\n",
    "file_name = f\"sf_police_report/{datetime.date.today()}.json\"\n",
    "store_to_gcs(service_account_key,\n",
    "            project_id,\n",
    "            bucket_name,\n",
    "            file_name,\n",
    "            json.dumps(data, indent=4))"
   ]
  },
  {
   "cell_type": "markdown",
   "id": "86b73733",
   "metadata": {},
   "source": [
    "Complete retrieve_data_from_gcs() to return a list of list which includes values corresponding to keys in key_list.\n",
    "If \n",
    "```\n",
    "key_list = ['incident_datetime', 'report_datetime', 'incident_code',\n",
    "            'incident_category', 'incident_description', 'latitude',\n",
    "            'longitude', 'police_district']\n",
    "```\n",
    "This should return\n",
    "```\n",
    "[['2025-08-26T23:17:00.000',\n",
    "  '2025-08-26T23:17:00.000',\n",
    "  '07041',\n",
    "  'Recovered Vehicle',\n",
    "  'Vehicle, Recovered, Auto',\n",
    "  None,\n",
    "  None,\n",
    "  'Out of SF'],\n",
    " ['2025-08-27T00:37:00.000',\n",
    "  '2025-08-27T00:37:00.000',\n",
    "  '04134',\n",
    "  'Assault',\n",
    "  'Battery',\n",
    "  '37.78041458129883',\n",
    "  '-122.44901275634766',\n",
    "  'Park'],....]\n",
    "```\n",
    "If a key doesn't exist, its value should be `None`"
   ]
  },
  {
   "cell_type": "code",
   "execution_count": 16,
   "id": "6e81f1ec",
   "metadata": {},
   "outputs": [],
   "source": [
    "def retrieve_data_from_gcs(service_account_key: str,\n",
    "                           project_id: str,\n",
    "                           bucket_name: str,\n",
    "                           file_name: str,\n",
    "                           key_list: list\n",
    "                           ) -> list:\n",
    "    credentials = service_account.Credentials.from_service_account_file(\n",
    "        service_account_key\n",
    "    )\n",
    "    client = storage.Client(credentials=credentials, project=project_id)\n",
    "    bucket = client.bucket(bucket_name)\n",
    "    blob = bucket.blob(file_name)\n",
    "    data = json.loads(blob.download_as_text())\n",
    "    filtered_data = [\n",
    "        {key: record.get(key, None) for key in key_list} for record in data\n",
    "        ]\n",
    "    return filtered_data"
   ]
  },
  {
   "cell_type": "code",
   "execution_count": 17,
   "id": "c34885d5",
   "metadata": {},
   "outputs": [],
   "source": [
    "key_list = ['incident_datetime', 'report_datetime', 'incident_code',\n",
    "            'incident_category', 'incident_description', 'latitude',\n",
    "            'longitude', 'police_district']\n",
    "data = retrieve_data_from_gcs(service_account_key, \n",
    "                              project_id,\n",
    "                              bucket_name,\n",
    "                              f\"sf_police_report/{datetime.date.today()}.json\",\n",
    "                              key_list)"
   ]
  },
  {
   "cell_type": "code",
   "execution_count": 18,
   "id": "59ee1084",
   "metadata": {},
   "outputs": [
    {
     "data": {
      "text/plain": [
       "[{'incident_datetime': '2025-08-26T23:17:00.000',\n",
       "  'report_datetime': '2025-08-26T23:17:00.000',\n",
       "  'incident_code': '07041',\n",
       "  'incident_category': 'Recovered Vehicle',\n",
       "  'incident_description': 'Vehicle, Recovered, Auto',\n",
       "  'latitude': None,\n",
       "  'longitude': None,\n",
       "  'police_district': 'Out of SF'},\n",
       " {'incident_datetime': '2025-08-27T00:37:00.000',\n",
       "  'report_datetime': '2025-08-27T00:37:00.000',\n",
       "  'incident_code': '04134',\n",
       "  'incident_category': 'Assault',\n",
       "  'incident_description': 'Battery',\n",
       "  'latitude': '37.78041458129883',\n",
       "  'longitude': '-122.44901275634766',\n",
       "  'police_district': 'Park'},\n",
       " {'incident_datetime': '2025-07-17T15:00:00.000',\n",
       "  'report_datetime': '2025-08-27T11:55:00.000',\n",
       "  'incident_code': '09027',\n",
       "  'incident_category': 'Fraud',\n",
       "  'incident_description': 'False Personation',\n",
       "  'latitude': '37.775177001953125',\n",
       "  'longitude': '-122.45135498046875',\n",
       "  'police_district': 'Park'},\n",
       " {'incident_datetime': '2025-08-23T21:30:00.000',\n",
       "  'report_datetime': '2025-08-24T14:53:00.000',\n",
       "  'incident_code': '06244',\n",
       "  'incident_category': 'Larceny Theft',\n",
       "  'incident_description': 'Theft, From Locked Vehicle, >$950',\n",
       "  'latitude': '37.77455139160156',\n",
       "  'longitude': '-122.42250061035156',\n",
       "  'police_district': 'Northern'},\n",
       " {'incident_datetime': '2025-08-15T12:00:00.000',\n",
       "  'report_datetime': '2025-08-24T19:10:00.000',\n",
       "  'incident_code': '71000',\n",
       "  'incident_category': 'Lost Property',\n",
       "  'incident_description': 'Lost Property',\n",
       "  'latitude': '37.76966094970703',\n",
       "  'longitude': '-122.44964599609375',\n",
       "  'police_district': 'Park'},\n",
       " {'incident_datetime': '2025-08-15T21:45:00.000',\n",
       "  'report_datetime': '2025-08-16T10:39:00.000',\n",
       "  'incident_code': '07026',\n",
       "  'incident_category': 'Motor Vehicle Theft',\n",
       "  'incident_description': 'Vehicle, Stolen, Other Vehicle',\n",
       "  'latitude': '37.77157211303711',\n",
       "  'longitude': '-122.44218444824219',\n",
       "  'police_district': 'Park'}]"
      ]
     },
     "execution_count": 18,
     "metadata": {},
     "output_type": "execute_result"
    }
   ],
   "source": [
    "data[:6]"
   ]
  },
  {
   "cell_type": "code",
   "execution_count": null,
   "id": "2c0d0065",
   "metadata": {},
   "outputs": [],
   "source": []
  }
 ],
 "metadata": {
  "kernelspec": {
   "display_name": "data_aquisition",
   "language": "python",
   "name": "python3"
  },
  "language_info": {
   "codemirror_mode": {
    "name": "ipython",
    "version": 3
   },
   "file_extension": ".py",
   "mimetype": "text/x-python",
   "name": "python",
   "nbconvert_exporter": "python",
   "pygments_lexer": "ipython3",
   "version": "3.13.5"
  }
 },
 "nbformat": 4,
 "nbformat_minor": 5
}
